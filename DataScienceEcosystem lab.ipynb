{
 "cells": [
  {
   "cell_type": "markdown",
   "id": "291e1d1e-8b6b-4fda-9ff2-feb5ee344e7a",
   "metadata": {},
   "source": [
    "Data Science Tools and Ecosystem"
   ]
  },
  {
   "cell_type": "markdown",
   "id": "197cc427-7fba-4b69-bdae-f28fcf08107c",
   "metadata": {},
   "source": [
    "In this notebook, Data Science Tools and Ecosystem are summarized."
   ]
  },
  {
   "cell_type": "markdown",
   "id": "05b4e27a-3953-4381-834f-0e776e6e16ec",
   "metadata": {},
   "source": [
    "Some of the popular languages that Data Scientists use are:"
   ]
  },
  {
   "cell_type": "markdown",
   "id": "dfc82440-bed5-4219-bd5d-e9ecf6304127",
   "metadata": {},
   "source": [
    "markdown\n",
    "1. Python\n",
    "2. R\n",
    "3. SQL"
   ]
  },
  {
   "cell_type": "markdown",
   "id": "5034bf9e-4687-4dc5-8f1e-efb560e1255e",
   "metadata": {},
   "source": [
    "Some of the commonly used libraries used by Data Scientists include:\n",
    "1. NumPY\n",
    "2. Pandas\n",
    "3. Scikit-learn\n"
   ]
  },
  {
   "cell_type": "markdown",
   "id": "bca11fb2-5cb4-480d-857c-73ef93d70bd1",
   "metadata": {
    "tags": []
   },
   "source": [
    "| Data Science Tools |\n",
    "|--------------------|\n",
    "|Jupyter Notebooks|\n",
    "|RStudio|\n",
    "|Visual Studio Code|\n"
   ]
  },
  {
   "cell_type": "markdown",
   "id": "2a20b682-e701-43ae-834f-75b450dfb4e3",
   "metadata": {},
   "source": [
    "###Below are a few examples of evaluating arithmetic expressions in Python"
   ]
  },
  {
   "cell_type": "code",
   "execution_count": 23,
   "id": "79ae5a60-d2b2-497f-92c8-515fff8b8453",
   "metadata": {
    "tags": []
   },
   "outputs": [
    {
     "name": "stdout",
     "output_type": "stream",
     "text": [
      "17\n"
     ]
    }
   ],
   "source": [
    "# This is the expression (3*4)+5\n",
    "result = (3*4)+5\n",
    "print(result)"
   ]
  },
  {
   "cell_type": "code",
   "execution_count": 25,
   "id": "f37d99d3-e19f-4235-946b-b2135d11c935",
   "metadata": {
    "tags": []
   },
   "outputs": [
    {
     "data": {
      "text/plain": [
       "3.3333333333333335"
      ]
     },
     "execution_count": 25,
     "metadata": {},
     "output_type": "execute_result"
    }
   ],
   "source": [
    "hours = 200 / 60\n",
    "hours"
   ]
  },
  {
   "cell_type": "markdown",
   "id": "82fe62bc-ed42-46f0-9586-0c2119e4d4c0",
   "metadata": {},
   "source": [
    "markdown\n",
    "\n",
    "**Objectives:**\n",
    "- List popular languages for Data Science\n",
    "\n",
    "- Data Science Tools\n",
    "\n",
    "- Some of the commonly used libraries used by Data Scientists\n",
    "\n",
    "- Data Science Tools and Ecosystem"
   ]
  },
  {
   "cell_type": "markdown",
   "id": "7c3cc39a-ea5d-4715-964e-94c22369d0de",
   "metadata": {},
   "source": [
    "## Author\n",
    "Emmanuel Mastro Matteo"
   ]
  },
  {
   "cell_type": "code",
   "execution_count": null,
   "id": "b9c1a175-67ee-4a7f-885d-c122d4d3a744",
   "metadata": {},
   "outputs": [],
   "source": []
  }
 ],
 "metadata": {
  "kernelspec": {
   "display_name": "Python 3 (ipykernel)",
   "language": "python",
   "name": "python3"
  },
  "language_info": {
   "codemirror_mode": {
    "name": "ipython",
    "version": 3
   },
   "file_extension": ".py",
   "mimetype": "text/x-python",
   "name": "python",
   "nbconvert_exporter": "python",
   "pygments_lexer": "ipython3",
   "version": "3.11.7"
  }
 },
 "nbformat": 4,
 "nbformat_minor": 5
}
